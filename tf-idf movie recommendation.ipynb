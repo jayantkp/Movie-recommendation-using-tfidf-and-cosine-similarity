{
 "cells": [
  {
   "cell_type": "code",
   "execution_count": 2,
   "metadata": {},
   "outputs": [],
   "source": [
    "import numpy as np\n",
    "import pandas as pd"
   ]
  },
  {
   "cell_type": "code",
   "execution_count": 5,
   "metadata": {},
   "outputs": [
    {
     "data": {
      "text/html": [
       "<div>\n",
       "<style scoped>\n",
       "    .dataframe tbody tr th:only-of-type {\n",
       "        vertical-align: middle;\n",
       "    }\n",
       "\n",
       "    .dataframe tbody tr th {\n",
       "        vertical-align: top;\n",
       "    }\n",
       "\n",
       "    .dataframe thead th {\n",
       "        text-align: right;\n",
       "    }\n",
       "</style>\n",
       "<table border=\"1\" class=\"dataframe\">\n",
       "  <thead>\n",
       "    <tr style=\"text-align: right;\">\n",
       "      <th></th>\n",
       "      <th>Release Year</th>\n",
       "      <th>Title</th>\n",
       "      <th>Origin/Ethnicity</th>\n",
       "      <th>Director</th>\n",
       "      <th>Cast</th>\n",
       "      <th>Genre</th>\n",
       "      <th>Wiki Page</th>\n",
       "      <th>Plot</th>\n",
       "    </tr>\n",
       "  </thead>\n",
       "  <tbody>\n",
       "    <tr>\n",
       "      <th>0</th>\n",
       "      <td>1901</td>\n",
       "      <td>Kansas Saloon Smashers</td>\n",
       "      <td>American</td>\n",
       "      <td>Unknown</td>\n",
       "      <td>NaN</td>\n",
       "      <td>unknown</td>\n",
       "      <td>https://en.wikipedia.org/wiki/Kansas_Saloon_Sm...</td>\n",
       "      <td>A bartender is working at a saloon, serving dr...</td>\n",
       "    </tr>\n",
       "    <tr>\n",
       "      <th>1</th>\n",
       "      <td>1901</td>\n",
       "      <td>Love by the Light of the Moon</td>\n",
       "      <td>American</td>\n",
       "      <td>Unknown</td>\n",
       "      <td>NaN</td>\n",
       "      <td>unknown</td>\n",
       "      <td>https://en.wikipedia.org/wiki/Love_by_the_Ligh...</td>\n",
       "      <td>The moon, painted with a smiling face hangs ov...</td>\n",
       "    </tr>\n",
       "    <tr>\n",
       "      <th>2</th>\n",
       "      <td>1901</td>\n",
       "      <td>The Martyred Presidents</td>\n",
       "      <td>American</td>\n",
       "      <td>Unknown</td>\n",
       "      <td>NaN</td>\n",
       "      <td>unknown</td>\n",
       "      <td>https://en.wikipedia.org/wiki/The_Martyred_Pre...</td>\n",
       "      <td>The film, just over a minute long, is composed...</td>\n",
       "    </tr>\n",
       "  </tbody>\n",
       "</table>\n",
       "</div>"
      ],
      "text/plain": [
       "   Release Year                          Title Origin/Ethnicity Director Cast  \\\n",
       "0          1901         Kansas Saloon Smashers         American  Unknown  NaN   \n",
       "1          1901  Love by the Light of the Moon         American  Unknown  NaN   \n",
       "2          1901        The Martyred Presidents         American  Unknown  NaN   \n",
       "\n",
       "     Genre                                          Wiki Page  \\\n",
       "0  unknown  https://en.wikipedia.org/wiki/Kansas_Saloon_Sm...   \n",
       "1  unknown  https://en.wikipedia.org/wiki/Love_by_the_Ligh...   \n",
       "2  unknown  https://en.wikipedia.org/wiki/The_Martyred_Pre...   \n",
       "\n",
       "                                                Plot  \n",
       "0  A bartender is working at a saloon, serving dr...  \n",
       "1  The moon, painted with a smiling face hangs ov...  \n",
       "2  The film, just over a minute long, is composed...  "
      ]
     },
     "execution_count": 5,
     "metadata": {},
     "output_type": "execute_result"
    }
   ],
   "source": [
    "df = pd.read_csv('wiki_movie_plots_deduped.csv')\n",
    "df.head(3)"
   ]
  },
  {
   "cell_type": "code",
   "execution_count": 6,
   "metadata": {},
   "outputs": [
    {
     "data": {
      "text/plain": [
       "34886"
      ]
     },
     "execution_count": 6,
     "metadata": {},
     "output_type": "execute_result"
    }
   ],
   "source": [
    "len(df)"
   ]
  },
  {
   "cell_type": "code",
   "execution_count": 7,
   "metadata": {},
   "outputs": [
    {
     "data": {
      "text/plain": [
       "array(['American', 'Assamese', 'Australian', 'Bangladeshi', 'Bengali',\n",
       "       'Bollywood', 'British', 'Canadian', 'Chinese', 'Egyptian',\n",
       "       'Filipino', 'Hong Kong', 'Japanese', 'Kannada', 'Malayalam',\n",
       "       'Malaysian', 'Maldivian', 'Marathi', 'Punjabi', 'Russian',\n",
       "       'South_Korean', 'Tamil', 'Telugu', 'Turkish'], dtype=object)"
      ]
     },
     "execution_count": 7,
     "metadata": {},
     "output_type": "execute_result"
    }
   ],
   "source": [
    "np.unique(df['Origin/Ethnicity'])"
   ]
  },
  {
   "cell_type": "code",
   "execution_count": 8,
   "metadata": {},
   "outputs": [
    {
     "data": {
      "text/plain": [
       "17377"
      ]
     },
     "execution_count": 8,
     "metadata": {},
     "output_type": "execute_result"
    }
   ],
   "source": [
    "len(df[df['Origin/Ethnicity'] == 'American'])"
   ]
  },
  {
   "cell_type": "code",
   "execution_count": 9,
   "metadata": {},
   "outputs": [
    {
     "data": {
      "text/plain": [
       "3670"
      ]
     },
     "execution_count": 9,
     "metadata": {},
     "output_type": "execute_result"
    }
   ],
   "source": [
    "len(df[df['Origin/Ethnicity'] == 'British'])"
   ]
  },
  {
   "cell_type": "code",
   "execution_count": 10,
   "metadata": {},
   "outputs": [],
   "source": [
    "# considering only american and british genres\n",
    "df1 = pd.DataFrame(df[df['Origin/Ethnicity'] == 'American'])\n",
    "df2 = pd.DataFrame(df[df['Origin/Ethnicity'] == 'British'])\n",
    "\n",
    "df_final = pd.concat([df1,df2],ignore_index= True)"
   ]
  },
  {
   "cell_type": "code",
   "execution_count": 11,
   "metadata": {},
   "outputs": [
    {
     "data": {
      "text/html": [
       "<div>\n",
       "<style scoped>\n",
       "    .dataframe tbody tr th:only-of-type {\n",
       "        vertical-align: middle;\n",
       "    }\n",
       "\n",
       "    .dataframe tbody tr th {\n",
       "        vertical-align: top;\n",
       "    }\n",
       "\n",
       "    .dataframe thead th {\n",
       "        text-align: right;\n",
       "    }\n",
       "</style>\n",
       "<table border=\"1\" class=\"dataframe\">\n",
       "  <thead>\n",
       "    <tr style=\"text-align: right;\">\n",
       "      <th></th>\n",
       "      <th>Release Year</th>\n",
       "      <th>Title</th>\n",
       "      <th>Origin/Ethnicity</th>\n",
       "      <th>Director</th>\n",
       "      <th>Cast</th>\n",
       "      <th>Genre</th>\n",
       "      <th>Wiki Page</th>\n",
       "      <th>Plot</th>\n",
       "    </tr>\n",
       "  </thead>\n",
       "  <tbody>\n",
       "    <tr>\n",
       "      <th>0</th>\n",
       "      <td>1901</td>\n",
       "      <td>Kansas Saloon Smashers</td>\n",
       "      <td>American</td>\n",
       "      <td>Unknown</td>\n",
       "      <td>NaN</td>\n",
       "      <td>unknown</td>\n",
       "      <td>https://en.wikipedia.org/wiki/Kansas_Saloon_Sm...</td>\n",
       "      <td>A bartender is working at a saloon, serving dr...</td>\n",
       "    </tr>\n",
       "    <tr>\n",
       "      <th>1</th>\n",
       "      <td>1901</td>\n",
       "      <td>Love by the Light of the Moon</td>\n",
       "      <td>American</td>\n",
       "      <td>Unknown</td>\n",
       "      <td>NaN</td>\n",
       "      <td>unknown</td>\n",
       "      <td>https://en.wikipedia.org/wiki/Love_by_the_Ligh...</td>\n",
       "      <td>The moon, painted with a smiling face hangs ov...</td>\n",
       "    </tr>\n",
       "    <tr>\n",
       "      <th>2</th>\n",
       "      <td>1901</td>\n",
       "      <td>The Martyred Presidents</td>\n",
       "      <td>American</td>\n",
       "      <td>Unknown</td>\n",
       "      <td>NaN</td>\n",
       "      <td>unknown</td>\n",
       "      <td>https://en.wikipedia.org/wiki/The_Martyred_Pre...</td>\n",
       "      <td>The film, just over a minute long, is composed...</td>\n",
       "    </tr>\n",
       "  </tbody>\n",
       "</table>\n",
       "</div>"
      ],
      "text/plain": [
       "   Release Year                          Title Origin/Ethnicity Director Cast  \\\n",
       "0          1901         Kansas Saloon Smashers         American  Unknown  NaN   \n",
       "1          1901  Love by the Light of the Moon         American  Unknown  NaN   \n",
       "2          1901        The Martyred Presidents         American  Unknown  NaN   \n",
       "\n",
       "     Genre                                          Wiki Page  \\\n",
       "0  unknown  https://en.wikipedia.org/wiki/Kansas_Saloon_Sm...   \n",
       "1  unknown  https://en.wikipedia.org/wiki/Love_by_the_Ligh...   \n",
       "2  unknown  https://en.wikipedia.org/wiki/The_Martyred_Pre...   \n",
       "\n",
       "                                                Plot  \n",
       "0  A bartender is working at a saloon, serving dr...  \n",
       "1  The moon, painted with a smiling face hangs ov...  \n",
       "2  The film, just over a minute long, is composed...  "
      ]
     },
     "execution_count": 11,
     "metadata": {},
     "output_type": "execute_result"
    }
   ],
   "source": [
    "df_final.head(3)"
   ]
  },
  {
   "cell_type": "code",
   "execution_count": 12,
   "metadata": {},
   "outputs": [
    {
     "data": {
      "text/plain": [
       "21047"
      ]
     },
     "execution_count": 12,
     "metadata": {},
     "output_type": "execute_result"
    }
   ],
   "source": [
    "len(df_final)"
   ]
  },
  {
   "cell_type": "code",
   "execution_count": 13,
   "metadata": {},
   "outputs": [],
   "source": [
    "df_final = df_final[['Title','Plot']]"
   ]
  },
  {
   "cell_type": "code",
   "execution_count": 14,
   "metadata": {},
   "outputs": [
    {
     "data": {
      "text/html": [
       "<div>\n",
       "<style scoped>\n",
       "    .dataframe tbody tr th:only-of-type {\n",
       "        vertical-align: middle;\n",
       "    }\n",
       "\n",
       "    .dataframe tbody tr th {\n",
       "        vertical-align: top;\n",
       "    }\n",
       "\n",
       "    .dataframe thead th {\n",
       "        text-align: right;\n",
       "    }\n",
       "</style>\n",
       "<table border=\"1\" class=\"dataframe\">\n",
       "  <thead>\n",
       "    <tr style=\"text-align: right;\">\n",
       "      <th></th>\n",
       "      <th>Title</th>\n",
       "      <th>Plot</th>\n",
       "    </tr>\n",
       "  </thead>\n",
       "  <tbody>\n",
       "    <tr>\n",
       "      <th>0</th>\n",
       "      <td>Kansas Saloon Smashers</td>\n",
       "      <td>A bartender is working at a saloon, serving dr...</td>\n",
       "    </tr>\n",
       "    <tr>\n",
       "      <th>1</th>\n",
       "      <td>Love by the Light of the Moon</td>\n",
       "      <td>The moon, painted with a smiling face hangs ov...</td>\n",
       "    </tr>\n",
       "    <tr>\n",
       "      <th>2</th>\n",
       "      <td>The Martyred Presidents</td>\n",
       "      <td>The film, just over a minute long, is composed...</td>\n",
       "    </tr>\n",
       "    <tr>\n",
       "      <th>3</th>\n",
       "      <td>Terrible Teddy, the Grizzly King</td>\n",
       "      <td>Lasting just 61 seconds and consisting of two ...</td>\n",
       "    </tr>\n",
       "    <tr>\n",
       "      <th>4</th>\n",
       "      <td>Jack and the Beanstalk</td>\n",
       "      <td>The earliest known adaptation of the classic f...</td>\n",
       "    </tr>\n",
       "  </tbody>\n",
       "</table>\n",
       "</div>"
      ],
      "text/plain": [
       "                              Title  \\\n",
       "0            Kansas Saloon Smashers   \n",
       "1     Love by the Light of the Moon   \n",
       "2           The Martyred Presidents   \n",
       "3  Terrible Teddy, the Grizzly King   \n",
       "4            Jack and the Beanstalk   \n",
       "\n",
       "                                                Plot  \n",
       "0  A bartender is working at a saloon, serving dr...  \n",
       "1  The moon, painted with a smiling face hangs ov...  \n",
       "2  The film, just over a minute long, is composed...  \n",
       "3  Lasting just 61 seconds and consisting of two ...  \n",
       "4  The earliest known adaptation of the classic f...  "
      ]
     },
     "execution_count": 14,
     "metadata": {},
     "output_type": "execute_result"
    }
   ],
   "source": [
    "df_final.head(5)"
   ]
  },
  {
   "cell_type": "code",
   "execution_count": 53,
   "metadata": {},
   "outputs": [
    {
     "data": {
      "text/plain": [
       "0        A bartender is working at a saloon, serving dr...\n",
       "1        The moon, painted with a smiling face hangs ov...\n",
       "2        The film, just over a minute long, is composed...\n",
       "3        Lasting just 61 seconds and consisting of two ...\n",
       "4        The earliest known adaptation of the classic f...\n",
       "                               ...                        \n",
       "21042    In 1934, famous Belgian detective Hercule Poir...\n",
       "21043    Paddington, having settled with the Brown fami...\n",
       "21044    ‘Lady’ Sandra Abbott (Imelda Staunton) discove...\n",
       "21045    In 1973, 16-year-old John Paul Getty III (Paul...\n",
       "21046    Olivia, a career lawyer in her 40's, feels rea...\n",
       "Name: Plot, Length: 21047, dtype: object"
      ]
     },
     "execution_count": 53,
     "metadata": {},
     "output_type": "execute_result"
    }
   ],
   "source": [
    "df_final['Plot']"
   ]
  },
  {
   "cell_type": "code",
   "execution_count": 25,
   "metadata": {},
   "outputs": [
    {
     "name": "stderr",
     "output_type": "stream",
     "text": [
      "[nltk_data] Downloading package punkt to\n",
      "[nltk_data]     C:\\Users\\HP\\AppData\\Roaming\\nltk_data...\n",
      "[nltk_data]   Package punkt is already up-to-date!\n",
      "[nltk_data] Downloading package averaged_perceptron_tagger to\n",
      "[nltk_data]     C:\\Users\\HP\\AppData\\Roaming\\nltk_data...\n",
      "[nltk_data]   Package averaged_perceptron_tagger is already up-to-\n",
      "[nltk_data]       date!\n",
      "[nltk_data] Downloading package wordnet to\n",
      "[nltk_data]     C:\\Users\\HP\\AppData\\Roaming\\nltk_data...\n",
      "[nltk_data]   Package wordnet is already up-to-date!\n"
     ]
    },
    {
     "data": {
      "text/plain": [
       "True"
      ]
     },
     "execution_count": 25,
     "metadata": {},
     "output_type": "execute_result"
    }
   ],
   "source": [
    "## Preprocessing using NLP\n",
    "import nltk\n",
    "nltk.download('punkt')  # sentence tokenizer\n",
    "nltk.download('averaged_perceptron_tagger')  # POS tagger\n",
    "nltk.download('wordnet')  # lemmatizer(database)\n"
   ]
  },
  {
   "cell_type": "code",
   "execution_count": 26,
   "metadata": {},
   "outputs": [
    {
     "name": "stderr",
     "output_type": "stream",
     "text": [
      "[nltk_data] Downloading package stopwords to\n",
      "[nltk_data]     C:\\Users\\HP\\AppData\\Roaming\\nltk_data...\n",
      "[nltk_data]   Package stopwords is already up-to-date!\n"
     ]
    },
    {
     "data": {
      "text/plain": [
       "True"
      ]
     },
     "execution_count": 26,
     "metadata": {},
     "output_type": "execute_result"
    }
   ],
   "source": [
    "from nltk.stem import WordNetLemmatizer\n",
    "lemmatizer = WordNetLemmatizer()\n",
    "\n",
    "\n",
    "from nltk.corpus import stopwords\n",
    "nltk.download('stopwords')"
   ]
  },
  {
   "cell_type": "code",
   "execution_count": 27,
   "metadata": {},
   "outputs": [
    {
     "name": "stdout",
     "output_type": "stream",
     "text": [
      "{'then', 'that', \"that'll\", 'themselves', 'them', 'now', \"should've\", 'down', 'by', 'you', 'is', 'very', 'only', 'for', 's', 'with', 'their', 'theirs', 'those', 'himself', 'under', 'they', 'y', 'so', 'too', 'between', \"you'd\", 'him', 'itself', 'didn', 'will', \"needn't\", 't', \"it's\", 'until', 'as', 'there', 'each', 'just', 'its', \"don't\", 'some', \"isn't\", 'needn', 'does', 'below', 'most', 'mightn', 'over', 'ain', 'wasn', 'more', 'has', 'no', 'i', 'aren', 'about', 'and', 'doesn', 'other', 'been', \"wouldn't\", \"mightn't\", \"mustn't\", \"you're\", 'our', 'during', 'the', 'myself', 'off', 'can', 'isn', 'own', 'here', 'how', 'o', 'my', 'why', \"haven't\", 'me', 'from', 'few', 'having', \"didn't\", 'doing', 'all', 'had', 'what', 'd', 're', 'when', 'who', 'wouldn', 'through', 'yourselves', 'on', 'where', 'should', 'out', 'before', 've', 'do', 'such', \"hasn't\", 'whom', 'against', 'be', 'up', \"won't\", 'but', 'weren', 'hadn', 'we', 'll', 'yours', 'while', 'which', 'yourself', 'm', 'hers', 'once', 'a', \"doesn't\", 'was', 'at', 'have', 'any', \"couldn't\", 'haven', 'were', 'it', 'both', 'nor', \"aren't\", 'these', 'shan', 'not', 'his', 'into', 'ourselves', 'did', \"you've\", 'an', 'she', 'mustn', \"weren't\", \"she's\", 'her', 'shouldn', 'in', 'ma', 'your', 'this', \"shan't\", 'are', 'than', 'being', \"wasn't\", 'to', 'further', 'again', \"shouldn't\", 'same', 'above', \"hadn't\", 'don', 'hasn', 'he', 'or', 'because', 'won', \"you'll\", 'am', 'after', 'ours', 'couldn', 'herself', 'if', 'of'}\n"
     ]
    }
   ],
   "source": [
    "stop_words = set(stopwords.words('english'))\n",
    "print(stop_words)"
   ]
  },
  {
   "cell_type": "code",
   "execution_count": 28,
   "metadata": {},
   "outputs": [],
   "source": [
    "VERB_CODES = {'VB', 'VBD', 'VBG', 'VBN', 'VBP', 'VBZ'}"
   ]
  },
  {
   "cell_type": "code",
   "execution_count": 32,
   "metadata": {},
   "outputs": [],
   "source": [
    "from nltk.tokenize import word_tokenize"
   ]
  },
  {
   "cell_type": "code",
   "execution_count": 61,
   "metadata": {},
   "outputs": [],
   "source": [
    "from dataclasses import replace\n",
    "from re import T\n",
    "from tempfile import tempdir\n",
    "from typing import final\n",
    "\n",
    "\n",
    "def preprocess_sentences(text):\n",
    "    \"\"\"Preprocess a list of sentences.\n",
    "    Args:\n",
    "        sentences: list of sentences, each sentence is a string.\n",
    "    Returns:\n",
    "        list of preprocessed sentences.\n",
    "    \"\"\"\n",
    "    text = text.lower()\n",
    "    temp_sent = []\n",
    "    words = nltk.word_tokenize(text)\n",
    "    tags = nltk.pos_tag(words)\n",
    "    \n",
    "    for i,word in enumerate(words):\n",
    "        if tags[i][1] in VERB_CODES:\n",
    "            lemmatized = lemmatizer.lemmatize(word, pos = 'v')\n",
    "        else:\n",
    "            lemmatized = lemmatizer.lemmatize(word)\n",
    "        if lemmatized not in stop_words and lemmatized.isalpha():\n",
    "            temp_sent.append(lemmatized)\n",
    "        \n",
    "    final_sent = \" \".join(temp_sent)  # converting list to string\n",
    "    final_sent = final_sent.replace(\"n't\",\"not\")\n",
    "    final_sent = final_sent.replace(\"'s\", \"is\")\n",
    "    final_sent = final_sent.replace(\"'m\", \"am\")\n",
    "    final_sent = final_sent.replace(\"'re\",\"are\")\n",
    "    final_sent = final_sent.replace(\"'ll\",\"will\")\n",
    "    final_sent = final_sent.replace(\"'ve\",\"have\")\n",
    "    final_sent = final_sent.replace(\"'d\",\"would\") \n",
    "    return final_sent\n",
    "    #return temp_sent\n",
    "\n",
    "        "
   ]
  },
  {
   "cell_type": "code",
   "execution_count": 62,
   "metadata": {},
   "outputs": [],
   "source": [
    "df_final['processed_plot'] = df_final['Plot'].apply(preprocess_sentences)"
   ]
  },
  {
   "cell_type": "code",
   "execution_count": 63,
   "metadata": {},
   "outputs": [],
   "source": [
    "#words = nltk.word_tokenize(text)\n",
    "#print(words)"
   ]
  },
  {
   "cell_type": "code",
   "execution_count": 64,
   "metadata": {},
   "outputs": [],
   "source": [
    "#tags = nltk.pos_tag(words)\n",
    "#tags[:5]"
   ]
  },
  {
   "cell_type": "code",
   "execution_count": 65,
   "metadata": {},
   "outputs": [],
   "source": [
    "#for i,word in enumerate(words):\n",
    "#    print(i,word)"
   ]
  },
  {
   "cell_type": "code",
   "execution_count": 66,
   "metadata": {},
   "outputs": [
    {
     "data": {
      "text/html": [
       "<div>\n",
       "<style scoped>\n",
       "    .dataframe tbody tr th:only-of-type {\n",
       "        vertical-align: middle;\n",
       "    }\n",
       "\n",
       "    .dataframe tbody tr th {\n",
       "        vertical-align: top;\n",
       "    }\n",
       "\n",
       "    .dataframe thead th {\n",
       "        text-align: right;\n",
       "    }\n",
       "</style>\n",
       "<table border=\"1\" class=\"dataframe\">\n",
       "  <thead>\n",
       "    <tr style=\"text-align: right;\">\n",
       "      <th></th>\n",
       "      <th>Title</th>\n",
       "      <th>Plot</th>\n",
       "      <th>processed_plot</th>\n",
       "    </tr>\n",
       "  </thead>\n",
       "  <tbody>\n",
       "    <tr>\n",
       "      <th>0</th>\n",
       "      <td>Kansas Saloon Smashers</td>\n",
       "      <td>A bartender is working at a saloon, serving dr...</td>\n",
       "      <td>bartender work saloon serve drink customer fil...</td>\n",
       "    </tr>\n",
       "    <tr>\n",
       "      <th>1</th>\n",
       "      <td>Love by the Light of the Moon</td>\n",
       "      <td>The moon, painted with a smiling face hangs ov...</td>\n",
       "      <td>moon paint smile face hang park night young co...</td>\n",
       "    </tr>\n",
       "    <tr>\n",
       "      <th>2</th>\n",
       "      <td>The Martyred Presidents</td>\n",
       "      <td>The film, just over a minute long, is composed...</td>\n",
       "      <td>film minute long compose two shot first girl s...</td>\n",
       "    </tr>\n",
       "    <tr>\n",
       "      <th>3</th>\n",
       "      <td>Terrible Teddy, the Grizzly King</td>\n",
       "      <td>Lasting just 61 seconds and consisting of two ...</td>\n",
       "      <td>last second consist two shot first shot set wo...</td>\n",
       "    </tr>\n",
       "    <tr>\n",
       "      <th>4</th>\n",
       "      <td>Jack and the Beanstalk</td>\n",
       "      <td>The earliest known adaptation of the classic f...</td>\n",
       "      <td>earliest known adaptation classic fairytale fi...</td>\n",
       "    </tr>\n",
       "  </tbody>\n",
       "</table>\n",
       "</div>"
      ],
      "text/plain": [
       "                              Title  \\\n",
       "0            Kansas Saloon Smashers   \n",
       "1     Love by the Light of the Moon   \n",
       "2           The Martyred Presidents   \n",
       "3  Terrible Teddy, the Grizzly King   \n",
       "4            Jack and the Beanstalk   \n",
       "\n",
       "                                                Plot  \\\n",
       "0  A bartender is working at a saloon, serving dr...   \n",
       "1  The moon, painted with a smiling face hangs ov...   \n",
       "2  The film, just over a minute long, is composed...   \n",
       "3  Lasting just 61 seconds and consisting of two ...   \n",
       "4  The earliest known adaptation of the classic f...   \n",
       "\n",
       "                                      processed_plot  \n",
       "0  bartender work saloon serve drink customer fil...  \n",
       "1  moon paint smile face hang park night young co...  \n",
       "2  film minute long compose two shot first girl s...  \n",
       "3  last second consist two shot first shot set wo...  \n",
       "4  earliest known adaptation classic fairytale fi...  "
      ]
     },
     "execution_count": 66,
     "metadata": {},
     "output_type": "execute_result"
    }
   ],
   "source": [
    "df_final.head(5)"
   ]
  },
  {
   "cell_type": "code",
   "execution_count": 68,
   "metadata": {},
   "outputs": [
    {
     "name": "stdout",
     "output_type": "stream",
     "text": [
      "  (0, 41188)\t0.04634704931499867\n",
      "  (0, 23684)\t0.1468986210808462\n",
      "  (0, 52331)\t0.0666258277784378\n",
      "  (0, 2886)\t0.07781145134640544\n",
      "  (0, 56016)\t0.12220057794453736\n",
      "  (0, 24208)\t0.08225124677721743\n",
      "  (0, 78178)\t0.09686491882482405\n",
      "  (0, 64455)\t0.2373880269323476\n",
      "  (0, 68079)\t0.1596013770939067\n",
      "  (0, 59753)\t0.16122349646456527\n",
      "  (0, 11450)\t0.11974965521177468\n",
      "  (0, 8965)\t0.06664892759943154\n",
      "  (0, 47646)\t0.13460473251216654\n",
      "  (0, 25647)\t0.20843836365669768\n",
      "  (0, 66765)\t0.13199645042648225\n",
      "  (0, 5148)\t0.0989847442256418\n",
      "  (0, 79905)\t0.13943959091595828\n",
      "  (0, 6094)\t0.05867821377061008\n",
      "  (0, 30206)\t0.15619074374948191\n",
      "  (0, 31885)\t0.06905494102367965\n",
      "  (0, 21257)\t0.12464085646561647\n",
      "  (0, 24130)\t0.10003008204731886\n",
      "  (0, 31666)\t0.12027494408301305\n",
      "  (0, 57672)\t0.08942092143018524\n",
      "  (0, 3781)\t0.11400862927243287\n",
      "  :\t:\n",
      "  (21046, 60687)\t0.11163073728486274\n",
      "  (21046, 49005)\t0.10248605516144894\n",
      "  (21046, 24869)\t0.11303355441197084\n",
      "  (21046, 80529)\t0.13565865500079005\n",
      "  (21046, 41047)\t0.1433967065600391\n",
      "  (21046, 59952)\t0.10327588647034393\n",
      "  (21046, 11113)\t0.12941765006317082\n",
      "  (21046, 73697)\t0.1619479014342329\n",
      "  (21046, 60026)\t0.10844572803498721\n",
      "  (21046, 14417)\t0.18131302994356088\n",
      "  (21046, 54452)\t0.10315125489545403\n",
      "  (21046, 37256)\t0.10358948641271659\n",
      "  (21046, 1802)\t0.12617430312484354\n",
      "  (21046, 19563)\t0.08119123434346046\n",
      "  (21046, 22719)\t0.11113898454283164\n",
      "  (21046, 5966)\t0.13199876881635092\n",
      "  (21046, 24451)\t0.08497276257352314\n",
      "  (21046, 68506)\t0.08961999851869068\n",
      "  (21046, 22965)\t0.11191958168256937\n",
      "  (21046, 77836)\t0.12835398893217156\n",
      "  (21046, 72336)\t0.09557986842818064\n",
      "  (21046, 74530)\t0.0669931176905847\n",
      "  (21046, 79614)\t0.08186803056465096\n",
      "  (21046, 15676)\t0.11295038514887328\n",
      "  (21046, 6094)\t0.07543186862512027\n"
     ]
    }
   ],
   "source": [
    "### tf-idf vectorizer\n",
    "\n",
    "from sklearn.feature_extraction.text import TfidfVectorizer\n",
    "\n",
    "# vectorizing movie plots using Tf- idf\n",
    "tfidfvec = TfidfVectorizer()\n",
    "tfidf_movieid = tfidfvec.fit_transform(df_final['processed_plot'])\n",
    "\n",
    "print(tfidf_movieid)"
   ]
  },
  {
   "cell_type": "code",
   "execution_count": 69,
   "metadata": {},
   "outputs": [
    {
     "name": "stdout",
     "output_type": "stream",
     "text": [
      "[[1.         0.02868374 0.00821845 ... 0.01498438 0.00623665 0.00442621]\n",
      " [0.02868374 1.         0.03713543 ... 0.         0.00551872 0.01444205]\n",
      " [0.00821845 0.03713543 1.         ... 0.01006554 0.00616888 0.01287415]\n",
      " ...\n",
      " [0.01498438 0.         0.01006554 ... 1.         0.00974492 0.01369473]\n",
      " [0.00623665 0.00551872 0.00616888 ... 0.00974492 1.         0.01066113]\n",
      " [0.00442621 0.01444205 0.01287415 ... 0.01369473 0.01066113 1.        ]]\n"
     ]
    }
   ],
   "source": [
    "# finding the cosine similarity between vectors\n",
    "from sklearn.metrics.pairwise import cosine_similarity\n",
    "cos_sim = cosine_similarity(tfidf_movieid,tfidf_movieid)\n",
    "\n",
    "print(cos_sim)"
   ]
  },
  {
   "cell_type": "code",
   "execution_count": 70,
   "metadata": {},
   "outputs": [
    {
     "data": {
      "text/html": [
       "<div>\n",
       "<style scoped>\n",
       "    .dataframe tbody tr th:only-of-type {\n",
       "        vertical-align: middle;\n",
       "    }\n",
       "\n",
       "    .dataframe tbody tr th {\n",
       "        vertical-align: top;\n",
       "    }\n",
       "\n",
       "    .dataframe thead th {\n",
       "        text-align: right;\n",
       "    }\n",
       "</style>\n",
       "<table border=\"1\" class=\"dataframe\">\n",
       "  <thead>\n",
       "    <tr style=\"text-align: right;\">\n",
       "      <th></th>\n",
       "      <th>Title</th>\n",
       "      <th>Plot</th>\n",
       "      <th>processed_plot</th>\n",
       "    </tr>\n",
       "  </thead>\n",
       "  <tbody>\n",
       "    <tr>\n",
       "      <th>0</th>\n",
       "      <td>Kansas Saloon Smashers</td>\n",
       "      <td>A bartender is working at a saloon, serving dr...</td>\n",
       "      <td>bartender work saloon serve drink customer fil...</td>\n",
       "    </tr>\n",
       "    <tr>\n",
       "      <th>1</th>\n",
       "      <td>Love by the Light of the Moon</td>\n",
       "      <td>The moon, painted with a smiling face hangs ov...</td>\n",
       "      <td>moon paint smile face hang park night young co...</td>\n",
       "    </tr>\n",
       "    <tr>\n",
       "      <th>2</th>\n",
       "      <td>The Martyred Presidents</td>\n",
       "      <td>The film, just over a minute long, is composed...</td>\n",
       "      <td>film minute long compose two shot first girl s...</td>\n",
       "    </tr>\n",
       "  </tbody>\n",
       "</table>\n",
       "</div>"
      ],
      "text/plain": [
       "                           Title  \\\n",
       "0         Kansas Saloon Smashers   \n",
       "1  Love by the Light of the Moon   \n",
       "2        The Martyred Presidents   \n",
       "\n",
       "                                                Plot  \\\n",
       "0  A bartender is working at a saloon, serving dr...   \n",
       "1  The moon, painted with a smiling face hangs ov...   \n",
       "2  The film, just over a minute long, is composed...   \n",
       "\n",
       "                                      processed_plot  \n",
       "0  bartender work saloon serve drink customer fil...  \n",
       "1  moon paint smile face hang park night young co...  \n",
       "2  film minute long compose two shot first girl s...  "
      ]
     },
     "execution_count": 70,
     "metadata": {},
     "output_type": "execute_result"
    }
   ],
   "source": [
    "df_final.head(3)"
   ]
  },
  {
   "cell_type": "code",
   "execution_count": 72,
   "metadata": {},
   "outputs": [
    {
     "data": {
      "text/html": [
       "<div>\n",
       "<style scoped>\n",
       "    .dataframe tbody tr th:only-of-type {\n",
       "        vertical-align: middle;\n",
       "    }\n",
       "\n",
       "    .dataframe tbody tr th {\n",
       "        vertical-align: top;\n",
       "    }\n",
       "\n",
       "    .dataframe thead th {\n",
       "        text-align: right;\n",
       "    }\n",
       "</style>\n",
       "<table border=\"1\" class=\"dataframe\">\n",
       "  <thead>\n",
       "    <tr style=\"text-align: right;\">\n",
       "      <th></th>\n",
       "      <th>Plot</th>\n",
       "      <th>processed_plot</th>\n",
       "    </tr>\n",
       "    <tr>\n",
       "      <th>Title</th>\n",
       "      <th></th>\n",
       "      <th></th>\n",
       "    </tr>\n",
       "  </thead>\n",
       "  <tbody>\n",
       "    <tr>\n",
       "      <th>Kansas Saloon Smashers</th>\n",
       "      <td>A bartender is working at a saloon, serving dr...</td>\n",
       "      <td>bartender work saloon serve drink customer fil...</td>\n",
       "    </tr>\n",
       "    <tr>\n",
       "      <th>Love by the Light of the Moon</th>\n",
       "      <td>The moon, painted with a smiling face hangs ov...</td>\n",
       "      <td>moon paint smile face hang park night young co...</td>\n",
       "    </tr>\n",
       "    <tr>\n",
       "      <th>The Martyred Presidents</th>\n",
       "      <td>The film, just over a minute long, is composed...</td>\n",
       "      <td>film minute long compose two shot first girl s...</td>\n",
       "    </tr>\n",
       "  </tbody>\n",
       "</table>\n",
       "</div>"
      ],
      "text/plain": [
       "                                                                            Plot  \\\n",
       "Title                                                                              \n",
       "Kansas Saloon Smashers         A bartender is working at a saloon, serving dr...   \n",
       "Love by the Light of the Moon  The moon, painted with a smiling face hangs ov...   \n",
       "The Martyred Presidents        The film, just over a minute long, is composed...   \n",
       "\n",
       "                                                                  processed_plot  \n",
       "Title                                                                             \n",
       "Kansas Saloon Smashers         bartender work saloon serve drink customer fil...  \n",
       "Love by the Light of the Moon  moon paint smile face hang park night young co...  \n",
       "The Martyred Presidents        film minute long compose two shot first girl s...  "
      ]
     },
     "execution_count": 72,
     "metadata": {},
     "output_type": "execute_result"
    }
   ],
   "source": [
    "df_final = df_final.set_index('Title')   #setting title as index\n",
    "\n",
    "df_final.head(3)"
   ]
  },
  {
   "cell_type": "code",
   "execution_count": 76,
   "metadata": {},
   "outputs": [
    {
     "name": "stdout",
     "output_type": "stream",
     "text": [
      "0                  Kansas Saloon Smashers\n",
      "1           Love by the Light of the Moon\n",
      "2                 The Martyred Presidents\n",
      "3        Terrible Teddy, the Grizzly King\n",
      "4                  Jack and the Beanstalk\n",
      "                       ...               \n",
      "21042        Murder on the Orient Express\n",
      "21043                        Paddington 2\n",
      "21044                   Finding Your Feet\n",
      "21045          All the Money in the World\n",
      "21046                     You, Me and Him\n",
      "Name: Title, Length: 21047, dtype: object\n"
     ]
    }
   ],
   "source": [
    "indices = pd.Series(df_final.index)\n",
    "print(indices)"
   ]
  },
  {
   "cell_type": "code",
   "execution_count": 81,
   "metadata": {},
   "outputs": [
    {
     "data": {
      "text/plain": [
       "14063"
      ]
     },
     "execution_count": 81,
     "metadata": {},
     "output_type": "execute_result"
    }
   ],
   "source": [
    "indices[indices == \"Harry Potter and the Chamber of Secrets\"].index[0]"
   ]
  },
  {
   "cell_type": "code",
   "execution_count": 93,
   "metadata": {},
   "outputs": [],
   "source": [
    "sim_scr = cos_sim[14063]  # cosine similarity of harry potter and the chamber of secrets\n",
    "#sim_scr\n",
    "sim_scr = pd.Series(sim_scr).sort_values(ascending = False)"
   ]
  },
  {
   "cell_type": "code",
   "execution_count": 94,
   "metadata": {},
   "outputs": [
    {
     "data": {
      "text/plain": [
       "14063    1.000000\n",
       "13862    0.555194\n",
       "20118    0.555194\n",
       "15845    0.489120\n",
       "20410    0.489120\n",
       "           ...   \n",
       "18396    0.000000\n",
       "5249     0.000000\n",
       "17471    0.000000\n",
       "1653     0.000000\n",
       "562      0.000000\n",
       "Length: 21047, dtype: float64"
      ]
     },
     "execution_count": 94,
     "metadata": {},
     "output_type": "execute_result"
    }
   ],
   "source": [
    "sim_scr"
   ]
  },
  {
   "cell_type": "code",
   "execution_count": 99,
   "metadata": {},
   "outputs": [
    {
     "data": {
      "text/plain": [
       "[13862, 20118, 15845, 20410, 15648, 16040, 20477, 15225, 14667, 14470]"
      ]
     },
     "execution_count": 99,
     "metadata": {},
     "output_type": "execute_result"
    }
   ],
   "source": [
    "list(sim_scr.iloc[1:11].index)"
   ]
  },
  {
   "cell_type": "code",
   "execution_count": 100,
   "metadata": {},
   "outputs": [],
   "source": [
    "# Building recommendation function which recommends top 10 similar movies\n",
    "\n",
    "\n",
    "def recommendations(title, cosine_sim = cos_sim):\n",
    "    recommended_movies = []\n",
    "    index = indices[indices == title].index[0]\n",
    "    similarity_scores = pd.Series(cos_sim[index]).sort_values(ascending = False)\n",
    "    top_10_movies = list(similarity_scores.iloc[1:11].index)\n",
    "    \n",
    "    for i in top_10_movies:\n",
    "        recommended_movies.append(list(df_final.index)[i])\n",
    "        \n",
    "    return recommended_movies"
   ]
  },
  {
   "cell_type": "code",
   "execution_count": 101,
   "metadata": {},
   "outputs": [
    {
     "data": {
      "text/plain": [
       "[\"Harry Potter and the Sorcerer's Stone\",\n",
       " \"Harry Potter and the Philosopher's Stone\",\n",
       " 'Harry Potter and the Deathly Hallows: Part 1',\n",
       " 'Harry Potter and the Deathly Hallows: Part I',\n",
       " 'Harry Potter and the Half-Blood Prince',\n",
       " 'Harry Potter and the Deathly Hallows: Part 2',\n",
       " 'Harry Potter and the Deathly Hallows: Part II',\n",
       " 'Harry Potter and the Order of the Phoenix',\n",
       " 'Harry Potter and the Goblet of Fire',\n",
       " 'Harry Potter and the Prisoner of Azkaban']"
      ]
     },
     "execution_count": 101,
     "metadata": {},
     "output_type": "execute_result"
    }
   ],
   "source": [
    "\n",
    "recommendations(\"Harry Potter and the Chamber of Secrets\")"
   ]
  },
  {
   "cell_type": "code",
   "execution_count": 102,
   "metadata": {},
   "outputs": [
    {
     "data": {
      "text/plain": [
       "['Ice Age: The Meltdown',\n",
       " 'Ice Age: Dawn of the Dinosaurs',\n",
       " 'The Wrong Man',\n",
       " 'Ice Age: Continental Drift',\n",
       " 'The Buttercup Chain',\n",
       " 'Ice Age: Collision Course',\n",
       " 'Runaway Train',\n",
       " 'Corrina, Corrina',\n",
       " 'Sid and Nancy',\n",
       " 'Zorro, the Gay Blade']"
      ]
     },
     "execution_count": 102,
     "metadata": {},
     "output_type": "execute_result"
    }
   ],
   "source": [
    "\n",
    "recommendations(\"Ice Age\")"
   ]
  },
  {
   "cell_type": "code",
   "execution_count": 103,
   "metadata": {},
   "outputs": [
    {
     "data": {
      "text/plain": [
       "['Checkpoint',\n",
       " 'Odds Against Tomorrow',\n",
       " 'The Beast with Five Fingers',\n",
       " 'Fruitvale Station',\n",
       " 'The Exile',\n",
       " 'The Black Swan',\n",
       " 'Small Town Gay Bar',\n",
       " 'Eye of the Cat',\n",
       " 'Blown Away',\n",
       " 'Brenda Starr, Reporter']"
      ]
     },
     "execution_count": 103,
     "metadata": {},
     "output_type": "execute_result"
    }
   ],
   "source": [
    "\n",
    "recommendations(\"Blackmail\")"
   ]
  },
  {
   "cell_type": "code",
   "execution_count": null,
   "metadata": {},
   "outputs": [],
   "source": []
  }
 ],
 "metadata": {
  "kernelspec": {
   "display_name": "Python 3.8.5 64-bit",
   "language": "python",
   "name": "python3"
  },
  "language_info": {
   "codemirror_mode": {
    "name": "ipython",
    "version": 3
   },
   "file_extension": ".py",
   "mimetype": "text/x-python",
   "name": "python",
   "nbconvert_exporter": "python",
   "pygments_lexer": "ipython3",
   "version": "3.8.5"
  },
  "orig_nbformat": 4,
  "vscode": {
   "interpreter": {
    "hash": "b337b16e1f284c9fe7de692799556d56c1809887abe3f5a49ffeb9e7df151cfb"
   }
  }
 },
 "nbformat": 4,
 "nbformat_minor": 2
}
